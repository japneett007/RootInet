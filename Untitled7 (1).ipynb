{
  "cells": [
    {
      "cell_type": "code",
      "execution_count": 2,
      "metadata": {
        "id": "h9qW4qIyQmw1"
      },
      "outputs": [],
      "source": [
        "import os\n",
        "import json\n",
        "from zipfile import ZipFile"
      ]
    },
    {
      "cell_type": "code",
      "execution_count": 3,
      "metadata": {
        "colab": {
          "base_uri": "https://localhost:8080/"
        },
        "id": "mTsAw537OCLa",
        "outputId": "1c9920a2-8421-4a7d-956b-f36c7db6dd76"
      },
      "outputs": [
        {
          "output_type": "stream",
          "name": "stdout",
          "text": [
            "Requirement already satisfied: kaggle in /usr/local/lib/python3.11/dist-packages (1.7.4.5)\n",
            "Requirement already satisfied: bleach in /usr/local/lib/python3.11/dist-packages (from kaggle) (6.2.0)\n",
            "Requirement already satisfied: certifi>=14.05.14 in /usr/local/lib/python3.11/dist-packages (from kaggle) (2025.6.15)\n",
            "Requirement already satisfied: charset-normalizer in /usr/local/lib/python3.11/dist-packages (from kaggle) (3.4.2)\n",
            "Requirement already satisfied: idna in /usr/local/lib/python3.11/dist-packages (from kaggle) (3.10)\n",
            "Requirement already satisfied: protobuf in /usr/local/lib/python3.11/dist-packages (from kaggle) (5.29.5)\n",
            "Requirement already satisfied: python-dateutil>=2.5.3 in /usr/local/lib/python3.11/dist-packages (from kaggle) (2.9.0.post0)\n",
            "Requirement already satisfied: python-slugify in /usr/local/lib/python3.11/dist-packages (from kaggle) (8.0.4)\n",
            "Requirement already satisfied: requests in /usr/local/lib/python3.11/dist-packages (from kaggle) (2.32.3)\n",
            "Requirement already satisfied: setuptools>=21.0.0 in /usr/local/lib/python3.11/dist-packages (from kaggle) (75.2.0)\n",
            "Requirement already satisfied: six>=1.10 in /usr/local/lib/python3.11/dist-packages (from kaggle) (1.17.0)\n",
            "Requirement already satisfied: text-unidecode in /usr/local/lib/python3.11/dist-packages (from kaggle) (1.3)\n",
            "Requirement already satisfied: tqdm in /usr/local/lib/python3.11/dist-packages (from kaggle) (4.67.1)\n",
            "Requirement already satisfied: urllib3>=1.15.1 in /usr/local/lib/python3.11/dist-packages (from kaggle) (2.4.0)\n",
            "Requirement already satisfied: webencodings in /usr/local/lib/python3.11/dist-packages (from kaggle) (0.5.1)\n"
          ]
        }
      ],
      "source": [
        "!pip install kaggle"
      ]
    },
    {
      "cell_type": "code",
      "execution_count": 4,
      "metadata": {
        "id": "yElHymOLAIG5"
      },
      "outputs": [],
      "source": [
        "with open('/content/kaggle (2).json', 'r') as f:\n",
        "    kaggle_credentials = json.load(f)"
      ]
    },
    {
      "cell_type": "code",
      "execution_count": 5,
      "metadata": {
        "id": "bUG9rmi6AN8h"
      },
      "outputs": [],
      "source": [
        "os.environ['KAGGLE_USERNAME'] = kaggle_credentials['username']\n",
        "os.environ['KAGGLE_KEY'] = kaggle_credentials['key']"
      ]
    },
    {
      "cell_type": "code",
      "execution_count": 6,
      "metadata": {
        "colab": {
          "base_uri": "https://localhost:8080/"
        },
        "id": "D_4xkwZOARpk",
        "outputId": "4f7d2d7f-388b-449d-c0c0-04075b8de541"
      },
      "outputs": [
        {
          "output_type": "stream",
          "name": "stdout",
          "text": [
            "Dataset URL: https://www.kaggle.com/datasets/tushar5harma/plant-village-dataset-updated\n",
            "License(s): CC0-1.0\n",
            "plant-village-dataset-updated.zip: Skipping, found more recently modified local copy (use --force to force download)\n"
          ]
        }
      ],
      "source": [
        "!kaggle datasets download -d tushar5harma/plant-village-dataset-updated"
      ]
    },
    {
      "cell_type": "code",
      "execution_count": 7,
      "metadata": {
        "colab": {
          "base_uri": "https://localhost:8080/"
        },
        "id": "zlaMdL0GAXBi",
        "outputId": "9bf8e436-edeb-44c4-ef77-b2895ca7a9de"
      },
      "outputs": [
        {
          "output_type": "stream",
          "name": "stdout",
          "text": [
            "'kaggle (2).json'\t plant-village-dataset-updated.zip   sample_data\n",
            " plant-village-dataset\t plant-village-structured\n"
          ]
        }
      ],
      "source": [
        "!ls"
      ]
    },
    {
      "cell_type": "code",
      "execution_count": 8,
      "metadata": {
        "id": "lZ3vCNYMAa6S"
      },
      "outputs": [],
      "source": [
        "with ZipFile(\"plant-village-dataset-updated.zip\",'r') as zip_ref:\n",
        "   zip_ref.extractall(\"plant-village-dataset\")"
      ]
    },
    {
      "cell_type": "code",
      "execution_count": 9,
      "metadata": {
        "colab": {
          "base_uri": "https://localhost:8080/"
        },
        "id": "_DMcjEk6H7m9",
        "outputId": "224b00d0-b9e5-4ab4-ca3c-c61452d17377"
      },
      "outputs": [
        {
          "output_type": "stream",
          "name": "stdout",
          "text": [
            " Apple\t        Cherry\t        Grape   Potato\t     Tomato\n",
            "'Bell Pepper'  'Corn (Maize)'   Peach   Strawberry\n"
          ]
        }
      ],
      "source": [
        "!ls /content/plant-village-dataset\n"
      ]
    },
    {
      "cell_type": "code",
      "execution_count": 10,
      "metadata": {
        "id": "Pp76iYChB3mN"
      },
      "outputs": [],
      "source": [
        "!pip install gTTS langdetect SpeechRecognition pygame pydub --quiet\n",
        "!apt-get install ffmpeg libespeak1 -y > /dev/null"
      ]
    },
    {
      "cell_type": "code",
      "execution_count": 11,
      "metadata": {
        "id": "8i0UjPZzCKvQ"
      },
      "outputs": [],
      "source": [
        "import os\n",
        "import numpy as np\n",
        "import matplotlib.pyplot as plt\n",
        "import tensorflow as tf\n",
        "from tensorflow.keras.preprocessing.image import ImageDataGenerator\n",
        "from tensorflow.keras.applications import MobileNetV2\n",
        "from tensorflow.keras.layers import Dense, GlobalAveragePooling2D, Dropout\n",
        "from tensorflow.keras.models import Model\n",
        "from sklearn.metrics import classification_report\n",
        "from langdetect import detect\n",
        "from gtts import gTTS\n",
        "import IPython.display as ipd\n"
      ]
    },
    {
      "cell_type": "code",
      "execution_count": 12,
      "metadata": {
        "colab": {
          "base_uri": "https://localhost:8080/"
        },
        "id": "Dik98RVLCQn9",
        "outputId": "fab69c7d-398f-4483-a8d6-031a263917a7"
      },
      "outputs": [
        {
          "output_type": "stream",
          "name": "stdout",
          "text": [
            "✅ Flattening complete. Images copied to: /content/plant-village-structured\n"
          ]
        }
      ],
      "source": [
        "import os\n",
        "import shutil\n",
        "\n",
        "source_root = \"/content/plant-village-dataset\"\n",
        "target_root = \"/content/plant-village-structured\"\n",
        "os.makedirs(target_root, exist_ok=True)\n",
        "\n",
        "for crop_folder in os.listdir(source_root):\n",
        "    crop_path = os.path.join(source_root, crop_folder)\n",
        "    if not os.path.isdir(crop_path):\n",
        "        continue\n",
        "\n",
        "    for split_folder in [\"Train\", \"Test\", \"Val\"]:\n",
        "        split_path = os.path.join(crop_path, split_folder)\n",
        "        if not os.path.isdir(split_path):\n",
        "            continue\n",
        "\n",
        "        for class_folder in os.listdir(split_path):\n",
        "            class_path = os.path.join(split_path, class_folder)\n",
        "            if not os.path.isdir(class_path):\n",
        "                continue\n",
        "\n",
        "            target_class_folder = os.path.join(target_root, class_folder)\n",
        "            os.makedirs(target_class_folder, exist_ok=True)\n",
        "\n",
        "            for img in os.listdir(class_path):\n",
        "                src = os.path.join(class_path, img)\n",
        "                dst = os.path.join(target_class_folder, img)\n",
        "                if os.path.isfile(src):\n",
        "                    shutil.copyfile(src, dst)\n",
        "\n",
        "print(\"✅ Flattening complete. Images copied to:\", target_root)\n"
      ]
    },
    {
      "cell_type": "code",
      "source": [
        "import os\n",
        "import re\n",
        "\n",
        "folder_path = \"/content/plant-village-structured\"\n",
        "\n",
        "def clean_name(name):\n",
        "    # Replace spaces and parentheses with underscores\n",
        "    name = re.sub(r\"[()\\s]+\", \"_\", name)\n",
        "    name = re.sub(r\"[^A-Za-z0-9_]+\", \"\", name)  # Remove any other special chars\n",
        "    return name.strip(\"_\")\n",
        "\n",
        "renamed = 0\n",
        "for folder in os.listdir(folder_path):\n",
        "    old_path = os.path.join(folder_path, folder)\n",
        "    if not os.path.isdir(old_path):\n",
        "        continue\n",
        "\n",
        "    cleaned = clean_name(folder)\n",
        "    new_path = os.path.join(folder_path, cleaned)\n",
        "\n",
        "    if old_path != new_path:\n",
        "        os.rename(old_path, new_path)\n",
        "        print(f\"✅ Renamed: '{folder}' → '{cleaned}'\")\n",
        "        renamed += 1\n",
        "\n",
        "if renamed == 0:\n",
        "    print(\"📁 No folders needed renaming.\")\n",
        "else:\n",
        "    print(f\"\\n🎉 Total folders renamed: {renamed}\")\n"
      ],
      "metadata": {
        "colab": {
          "base_uri": "https://localhost:8080/",
          "height": 238
        },
        "id": "4gJQyIT31eNI",
        "outputId": "ff309bb9-aa17-4baf-f9f2-0befdc9cb8a7"
      },
      "execution_count": 13,
      "outputs": [
        {
          "output_type": "error",
          "ename": "OSError",
          "evalue": "[Errno 39] Directory not empty: '/content/plant-village-structured/Bacterial Spot' -> '/content/plant-village-structured/Bacterial_Spot'",
          "traceback": [
            "\u001b[0;31m---------------------------------------------------------------------------\u001b[0m",
            "\u001b[0;31mOSError\u001b[0m                                   Traceback (most recent call last)",
            "\u001b[0;32m/tmp/ipython-input-13-4059404705.py\u001b[0m in \u001b[0;36m<cell line: 0>\u001b[0;34m()\u001b[0m\n\u001b[1;32m     20\u001b[0m \u001b[0;34m\u001b[0m\u001b[0m\n\u001b[1;32m     21\u001b[0m     \u001b[0;32mif\u001b[0m \u001b[0mold_path\u001b[0m \u001b[0;34m!=\u001b[0m \u001b[0mnew_path\u001b[0m\u001b[0;34m:\u001b[0m\u001b[0;34m\u001b[0m\u001b[0;34m\u001b[0m\u001b[0m\n\u001b[0;32m---> 22\u001b[0;31m         \u001b[0mos\u001b[0m\u001b[0;34m.\u001b[0m\u001b[0mrename\u001b[0m\u001b[0;34m(\u001b[0m\u001b[0mold_path\u001b[0m\u001b[0;34m,\u001b[0m \u001b[0mnew_path\u001b[0m\u001b[0;34m)\u001b[0m\u001b[0;34m\u001b[0m\u001b[0;34m\u001b[0m\u001b[0m\n\u001b[0m\u001b[1;32m     23\u001b[0m         \u001b[0mprint\u001b[0m\u001b[0;34m(\u001b[0m\u001b[0;34mf\"✅ Renamed: '{folder}' → '{cleaned}'\"\u001b[0m\u001b[0;34m)\u001b[0m\u001b[0;34m\u001b[0m\u001b[0;34m\u001b[0m\u001b[0m\n\u001b[1;32m     24\u001b[0m         \u001b[0mrenamed\u001b[0m \u001b[0;34m+=\u001b[0m \u001b[0;36m1\u001b[0m\u001b[0;34m\u001b[0m\u001b[0;34m\u001b[0m\u001b[0m\n",
            "\u001b[0;31mOSError\u001b[0m: [Errno 39] Directory not empty: '/content/plant-village-structured/Bacterial Spot' -> '/content/plant-village-structured/Bacterial_Spot'"
          ]
        }
      ]
    },
    {
      "cell_type": "code",
      "execution_count": null,
      "metadata": {
        "id": "abAOIE2mJdNL"
      },
      "outputs": [],
      "source": [
        "!ls /content/plant-village-structured"
      ]
    },
    {
      "cell_type": "code",
      "execution_count": null,
      "metadata": {
        "id": "RAjg1ghMHeCa"
      },
      "outputs": [],
      "source": [
        "import os\n",
        "\n",
        "dataset_path = \"/content/plant-village-structured\"\n",
        "\n",
        "print(\"Top-level folders (should be disease names):\")\n",
        "print(os.listdir(dataset_path)[:5])  # print first 5 class folders\n",
        "\n",
        "for cls in os.listdir(dataset_path):\n",
        "    class_path = os.path.join(dataset_path, cls)\n",
        "    if os.path.isdir(class_path):\n",
        "        print(f\"{cls} → {len(os.listdir(class_path))} images\")\n",
        "        break  # just check one class\n"
      ]
    },
    {
      "cell_type": "code",
      "execution_count": null,
      "metadata": {
        "id": "7g3Fw0DwDD4U"
      },
      "outputs": [],
      "source": [
        "dataset_path = \"/content/plant-village-structured\"\n"
      ]
    },
    {
      "cell_type": "code",
      "execution_count": null,
      "metadata": {
        "id": "ntP32Zw3DJsT"
      },
      "outputs": [],
      "source": [
        "img_height, img_width = 224, 224\n",
        "batch_size = 32"
      ]
    },
    {
      "cell_type": "code",
      "execution_count": null,
      "metadata": {
        "id": "SvCxsY1eDOH8"
      },
      "outputs": [],
      "source": [
        "train_datagen = ImageDataGenerator(\n",
        "    rescale=1./255,\n",
        "    validation_split=0.2,         # 80% train, 20% validation\n",
        "    rotation_range=30,\n",
        "    zoom_range=0.2,\n",
        "    horizontal_flip=True\n",
        ")"
      ]
    },
    {
      "cell_type": "code",
      "execution_count": null,
      "metadata": {
        "id": "KHoKH543GNuY"
      },
      "outputs": [],
      "source": [
        "train_generator = train_datagen.flow_from_directory(\n",
        "    dataset_path,\n",
        "    target_size=(img_height, img_width),\n",
        "    batch_size=batch_size,\n",
        "    class_mode='categorical',\n",
        "    subset='training',            # Pull from 80% of data\n",
        "    shuffle=True\n",
        ")"
      ]
    },
    {
      "cell_type": "code",
      "execution_count": null,
      "metadata": {
        "id": "Pd3zMthfJrf1"
      },
      "outputs": [],
      "source": [
        "val_generator = train_datagen.flow_from_directory(\n",
        "    dataset_path,\n",
        "    target_size=(img_height, img_width),\n",
        "    batch_size=batch_size,\n",
        "    class_mode='categorical',\n",
        "    subset='validation',          # Pull from 20% of data\n",
        "    shuffle=False\n",
        ")"
      ]
    },
    {
      "cell_type": "code",
      "execution_count": null,
      "metadata": {
        "id": "t88FKvvxJ5nc"
      },
      "outputs": [],
      "source": [
        "class_names = list(train_generator.class_indices.keys())\n",
        "num_classes = len(class_names)\n",
        "print(\"Detected Classes:\", class_names)"
      ]
    },
    {
      "cell_type": "code",
      "execution_count": null,
      "metadata": {
        "id": "WtNQng7AJ9eM"
      },
      "outputs": [],
      "source": [
        "base_model = MobileNetV2(input_shape=(img_height, img_width, 3),\n",
        "                         include_top=False,\n",
        "                         weights='imagenet')\n",
        "base_model.trainable = False"
      ]
    },
    {
      "cell_type": "code",
      "execution_count": null,
      "metadata": {
        "id": "UcVyQZ7mKN40"
      },
      "outputs": [],
      "source": [
        "x = base_model.output\n",
        "x = GlobalAveragePooling2D()(x)\n",
        "x = Dropout(0.3)(x)\n",
        "predictions = Dense(num_classes, activation='softmax')(x)\n",
        "\n",
        "model = Model(inputs=base_model.input, outputs=predictions)\n",
        "\n",
        "model.compile(optimizer='adam',\n",
        "              loss='categorical_crossentropy',\n",
        "              metrics=['accuracy'])\n"
      ]
    },
    {
      "cell_type": "code",
      "execution_count": null,
      "metadata": {
        "id": "qCtagGENKS3u"
      },
      "outputs": [],
      "source": [
        "from tensorflow.keras.callbacks import EarlyStopping\n",
        "\n",
        "early_stop = EarlyStopping(\n",
        "    monitor='val_loss',      # Watch validation loss\n",
        "    patience=3,              # Stop after 3 epochs with no improvement\n",
        "    restore_best_weights=True  # Restore the best model seen so far\n",
        ")\n",
        "\n",
        "# Train model\n",
        "history = model.fit(\n",
        "    train_generator,\n",
        "    validation_data=val_generator,\n",
        "    epochs=15,\n",
        "    callbacks=[early_stop]\n",
        ")"
      ]
    },
    {
      "cell_type": "code",
      "execution_count": null,
      "metadata": {
        "id": "OWxVK-bsKY30"
      },
      "outputs": [],
      "source": [
        "plt.figure(figsize=(14, 5))\n",
        "\n",
        "plt.subplot(1, 2, 1)\n",
        "plt.plot(history.history['accuracy'], label='Train Acc')\n",
        "plt.plot(history.history['val_accuracy'], label='Val Acc')\n",
        "plt.title('Accuracy')\n",
        "plt.legend()\n",
        "\n",
        "plt.subplot(1, 2, 2)\n",
        "plt.plot(history.history['loss'], label='Train Loss')\n",
        "plt.plot(history.history['val_loss'], label='Val Loss')\n",
        "plt.title('Loss')\n",
        "plt.legend()\n",
        "\n",
        "plt.show()"
      ]
    },
    {
      "cell_type": "code",
      "execution_count": null,
      "metadata": {
        "id": "rmznOtaeKeUd"
      },
      "outputs": [],
      "source": [
        "treatment_guide = {\n",
        "    \"Apple_Scab\": \"Apply fungicides like captan or mancozeb. Remove infected leaves and ensure good air circulation.\",\n",
        "    \"Black_Rot\": \"Remove infected fruit and apply fungicide sprays like thiophanate-methyl during bloom.\",\n",
        "    \"Cedar_Apple_Rust\": \"Use fungicides like myclobutanil and remove nearby juniper trees if possible.\",\n",
        "\n",
        "    \"Healthy\": \"No treatment needed. Maintain good hygiene and monitor regularly.\",\n",
        "\n",
        "    \"Cercospora_Leaf_Spot\": \"Use resistant hybrids and apply fungicides like azoxystrobin.\",\n",
        "    \"Common_Rust\": \"Apply fungicides like propiconazole. Plant resistant varieties.\",\n",
        "    \"Northern_Leaf_Blight\": \"Use fungicides and rotate crops to reduce fungal spores.\",\n",
        "\n",
        "    \"Esca_Black_Measles\": \"Remove infected vines and use fungicides. Avoid overwatering.\",\n",
        "    \"Leaf_Blight\": \"Use fungicides like thiophanate-methyl. Prune infected leaves.\",\n",
        "\n",
        "    \"Leaf_Scorch\": \"Use fungicides like captan. Avoid wet foliage and overcrowding.\",\n",
        "\n",
        "    \"Powdery_Mildew\": \"Spray sulfur or neem oil. Remove infected leaves and improve airflow.\",\n",
        "    \"Early_Blight\": \"Use fungicides like chlorothalonil or mancozeb. Rotate crops annually.\",\n",
        "    \"Late_Blight\": \"Destroy infected plants. Apply protective fungicides like mancozeb or cymoxanil.\",\n",
        "\n",
        "    \"Bacterial_Spot\": \"Apply copper-based sprays and avoid overhead irrigation.\",\n",
        "\n",
        "    \"Septoria_Leaf_Spot\": \"Remove infected leaves and use fungicides like maneb.\",\n",
        "    \"Yellow_Leaf_Curl_Virus\": \"Remove infected plants and control whiteflies with insecticides.\"\n",
        "}\n",
        "def generate_report(class_name):\n",
        "    return treatment_guide.get(class_name, \"No specific treatment found. Consult an expert.\")\n",
        "\n",
        "def predict_and_report(image_path):\n",
        "    from tensorflow.keras.preprocessing import image\n",
        "    img = image.load_img(image_path, target_size=(img_height, img_width))\n",
        "    img_array = image.img_to_array(img) / 255.\n",
        "    img_array = np.expand_dims(img_array, axis=0)\n",
        "\n",
        "    pred = model.predict(img_array)\n",
        "    pred_class = class_names[np.argmax(pred)]\n",
        "    report = generate_report(pred_class)\n",
        "\n",
        "    print(f\"Prediction: {pred_class}\")\n",
        "    print(f\"Treatment Report: {report}\")\n",
        "    return report"
      ]
    },
    {
      "cell_type": "code",
      "execution_count": null,
      "metadata": {
        "id": "0V51bNSbLNBr"
      },
      "outputs": [],
      "source": [
        "import speech_recognition as sr\n",
        "\n",
        "def listen_and_translate():\n",
        "    recognizer = sr.Recognizer()\n",
        "    with sr.Microphone() as source:\n",
        "        print(\"🎤 Speak now...\")\n",
        "        audio = recognizer.listen(source)\n",
        "        try:\n",
        "            text = recognizer.recognize_google(audio)\n",
        "            lang = detect(text)\n",
        "            print(f\"Detected Language: {lang}\")\n",
        "            print(\"You said:\", text)\n",
        "            return text, lang\n",
        "        except Exception as e:\n",
        "            print(\"Could not understand audio:\", str(e))\n",
        "            return None, None\n",
        "\n",
        "def speak(text, lang='en'):\n",
        "    try:\n",
        "        tts = gTTS(text=text, lang=lang)\n",
        "        tts.save(\"speech.mp3\")\n",
        "        ipd.display(ipd.Audio(\"speech.mp3\"))\n",
        "    except Exception as e:\n",
        "        print(\"Voice output error:\", e)\n",
        "\n"
      ]
    },
    {
      "cell_type": "code",
      "execution_count": null,
      "metadata": {
        "id": "QMlGIBu4LU5u"
      },
      "outputs": [],
      "source": [
        "# Final demo for prediction and voice\n",
        "image_path = \"/content/images (1).jpg\"  # replace with actual image path\n",
        "report = predict_and_report(image_path)\n",
        "speak(report, lang='en')  # You can change lang to any ISO 639-1 code, e.g., 'hi' for Hindi\n"
      ]
    },
    {
      "cell_type": "code",
      "source": [
        "model.save(\"/content/plant_disease_model.h5\")\n",
        "print(\"✅ Model saved as plant_disease_model.h5\")"
      ],
      "metadata": {
        "id": "DJnZF6_YJTBI"
      },
      "execution_count": null,
      "outputs": []
    },
    {
      "cell_type": "code",
      "source": [
        "import json\n",
        "\n",
        "# Save class_names list for decoding predictions later\n",
        "with open(\"/content/class_names.json\", \"w\") as f:\n",
        "    json.dump(class_names, f)\n",
        "\n",
        "print(\"✅ Class names saved as class_names.json\")"
      ],
      "metadata": {
        "id": "iea4DPoTJ0sz"
      },
      "execution_count": null,
      "outputs": []
    },
    {
      "cell_type": "code",
      "source": [],
      "metadata": {
        "id": "0SkHZnm5xKpQ"
      },
      "execution_count": null,
      "outputs": []
    },
    {
      "cell_type": "code",
      "source": [],
      "metadata": {
        "id": "V8fPCF5xxO0G"
      },
      "execution_count": null,
      "outputs": []
    },
    {
      "cell_type": "code",
      "source": [],
      "metadata": {
        "id": "Fhon7K7zKiRd"
      },
      "execution_count": null,
      "outputs": []
    }
  ],
  "metadata": {
    "colab": {
      "provenance": [],
      "gpuType": "T4"
    },
    "kernelspec": {
      "display_name": "Python 3",
      "name": "python3"
    },
    "language_info": {
      "name": "python"
    },
    "accelerator": "GPU"
  },
  "nbformat": 4,
  "nbformat_minor": 0
}